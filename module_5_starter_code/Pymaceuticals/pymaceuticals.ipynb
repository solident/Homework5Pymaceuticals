{
 "cells": [
  {
   "cell_type": "markdown",
   "metadata": {},
   "source": [
    "# Pymaceuticals Inc.\n",
    "---\n",
    "\n",
    "### Comparing Capomulin to other Drugs\n",
    "\n",
    "- I observe a  postitive correlation between weight of the mice and the tumor size. A P-Value of .84 indicates a linear correlation.\n",
    "- Capomulin seems effective as a drug regimen to treat tumor as the tumor size in mouse l509 decreased as time went on.\n",
    "- Of the drug regimens analyized, Capomulin and Ramicane were the most effective at decreasing tumor size. \n",
    "- As a call to action I would recommend advancing the two effective drugs to the next stages.\n",
    " "
   ]
  },
  {
   "cell_type": "code",
   "execution_count": 1,
   "metadata": {
    "scrolled": true
   },
   "outputs": [
    {
     "data": {
      "text/html": [
       "<div>\n",
       "<style scoped>\n",
       "    .dataframe tbody tr th:only-of-type {\n",
       "        vertical-align: middle;\n",
       "    }\n",
       "\n",
       "    .dataframe tbody tr th {\n",
       "        vertical-align: top;\n",
       "    }\n",
       "\n",
       "    .dataframe thead th {\n",
       "        text-align: right;\n",
       "    }\n",
       "</style>\n",
       "<table border=\"1\" class=\"dataframe\">\n",
       "  <thead>\n",
       "    <tr style=\"text-align: right;\">\n",
       "      <th></th>\n",
       "      <th>Mouse ID</th>\n",
       "      <th>Drug Regimen</th>\n",
       "      <th>Sex</th>\n",
       "      <th>Age_months</th>\n",
       "      <th>Weight (g)</th>\n",
       "      <th>Timepoint</th>\n",
       "      <th>Tumor Volume (mm3)</th>\n",
       "      <th>Metastatic Sites</th>\n",
       "    </tr>\n",
       "  </thead>\n",
       "  <tbody>\n",
       "    <tr>\n",
       "      <th>0</th>\n",
       "      <td>k403</td>\n",
       "      <td>Ramicane</td>\n",
       "      <td>Male</td>\n",
       "      <td>21</td>\n",
       "      <td>16</td>\n",
       "      <td>0</td>\n",
       "      <td>45.000000</td>\n",
       "      <td>0</td>\n",
       "    </tr>\n",
       "    <tr>\n",
       "      <th>1</th>\n",
       "      <td>k403</td>\n",
       "      <td>Ramicane</td>\n",
       "      <td>Male</td>\n",
       "      <td>21</td>\n",
       "      <td>16</td>\n",
       "      <td>5</td>\n",
       "      <td>38.825898</td>\n",
       "      <td>0</td>\n",
       "    </tr>\n",
       "    <tr>\n",
       "      <th>2</th>\n",
       "      <td>k403</td>\n",
       "      <td>Ramicane</td>\n",
       "      <td>Male</td>\n",
       "      <td>21</td>\n",
       "      <td>16</td>\n",
       "      <td>10</td>\n",
       "      <td>35.014271</td>\n",
       "      <td>1</td>\n",
       "    </tr>\n",
       "    <tr>\n",
       "      <th>3</th>\n",
       "      <td>k403</td>\n",
       "      <td>Ramicane</td>\n",
       "      <td>Male</td>\n",
       "      <td>21</td>\n",
       "      <td>16</td>\n",
       "      <td>15</td>\n",
       "      <td>34.223992</td>\n",
       "      <td>1</td>\n",
       "    </tr>\n",
       "    <tr>\n",
       "      <th>4</th>\n",
       "      <td>k403</td>\n",
       "      <td>Ramicane</td>\n",
       "      <td>Male</td>\n",
       "      <td>21</td>\n",
       "      <td>16</td>\n",
       "      <td>20</td>\n",
       "      <td>32.997729</td>\n",
       "      <td>1</td>\n",
       "    </tr>\n",
       "  </tbody>\n",
       "</table>\n",
       "</div>"
      ],
      "text/plain": [
       "  Mouse ID Drug Regimen   Sex  Age_months  Weight (g)  Timepoint  \\\n",
       "0     k403     Ramicane  Male          21          16          0   \n",
       "1     k403     Ramicane  Male          21          16          5   \n",
       "2     k403     Ramicane  Male          21          16         10   \n",
       "3     k403     Ramicane  Male          21          16         15   \n",
       "4     k403     Ramicane  Male          21          16         20   \n",
       "\n",
       "   Tumor Volume (mm3)  Metastatic Sites  \n",
       "0           45.000000                 0  \n",
       "1           38.825898                 0  \n",
       "2           35.014271                 1  \n",
       "3           34.223992                 1  \n",
       "4           32.997729                 1  "
      ]
     },
     "execution_count": 1,
     "metadata": {},
     "output_type": "execute_result"
    }
   ],
   "source": [
    "# Dependencies and Setup\n",
    "import matplotlib.pyplot as plt\n",
    "import pandas as pd\n",
    "import scipy.stats as st\n",
    "import numpy as np\n",
    "from scipy.stats import linregress\n",
    "\n",
    "# Study data files\n",
    "mouse_metadata_path = \"data/Mouse_metadata.csv\"\n",
    "study_results_path = \"data/Study_results.csv\"\n",
    "\n",
    "# Read the mouse data and the study results\n",
    "mouse_metadata = pd.read_csv(mouse_metadata_path)\n",
    "study_results = pd.read_csv(study_results_path)\n",
    "\n",
    "# Combine the data into a single dataset\n",
    "combined_data = pd.merge(mouse_metadata, study_results, how = \"outer\", on = \"Mouse ID\")\n",
    "duplicate_data = combined_data[\"Mouse ID\"].count()\n",
    "\n",
    "# Display the data table for preview\n",
    "combined_data.head()"
   ]
  },
  {
   "cell_type": "code",
   "execution_count": 2,
   "metadata": {},
   "outputs": [
    {
     "name": "stdout",
     "output_type": "stream",
     "text": [
      "1893 records in the experiment.\n"
     ]
    },
    {
     "data": {
      "text/html": [
       "<div>\n",
       "<style scoped>\n",
       "    .dataframe tbody tr th:only-of-type {\n",
       "        vertical-align: middle;\n",
       "    }\n",
       "\n",
       "    .dataframe tbody tr th {\n",
       "        vertical-align: top;\n",
       "    }\n",
       "\n",
       "    .dataframe thead th {\n",
       "        text-align: right;\n",
       "    }\n",
       "</style>\n",
       "<table border=\"1\" class=\"dataframe\">\n",
       "  <thead>\n",
       "    <tr style=\"text-align: right;\">\n",
       "      <th></th>\n",
       "      <th>Mouse ID</th>\n",
       "      <th>Drug Regimen</th>\n",
       "      <th>Sex</th>\n",
       "      <th>Age_months</th>\n",
       "      <th>Weight (g)</th>\n",
       "      <th>Timepoint</th>\n",
       "      <th>Tumor Volume (mm3)</th>\n",
       "      <th>Metastatic Sites</th>\n",
       "    </tr>\n",
       "  </thead>\n",
       "  <tbody>\n",
       "    <tr>\n",
       "      <th>0</th>\n",
       "      <td>k403</td>\n",
       "      <td>Ramicane</td>\n",
       "      <td>Male</td>\n",
       "      <td>21</td>\n",
       "      <td>16</td>\n",
       "      <td>0</td>\n",
       "      <td>45.000000</td>\n",
       "      <td>0</td>\n",
       "    </tr>\n",
       "    <tr>\n",
       "      <th>1</th>\n",
       "      <td>k403</td>\n",
       "      <td>Ramicane</td>\n",
       "      <td>Male</td>\n",
       "      <td>21</td>\n",
       "      <td>16</td>\n",
       "      <td>5</td>\n",
       "      <td>38.825898</td>\n",
       "      <td>0</td>\n",
       "    </tr>\n",
       "    <tr>\n",
       "      <th>2</th>\n",
       "      <td>k403</td>\n",
       "      <td>Ramicane</td>\n",
       "      <td>Male</td>\n",
       "      <td>21</td>\n",
       "      <td>16</td>\n",
       "      <td>10</td>\n",
       "      <td>35.014271</td>\n",
       "      <td>1</td>\n",
       "    </tr>\n",
       "    <tr>\n",
       "      <th>3</th>\n",
       "      <td>k403</td>\n",
       "      <td>Ramicane</td>\n",
       "      <td>Male</td>\n",
       "      <td>21</td>\n",
       "      <td>16</td>\n",
       "      <td>15</td>\n",
       "      <td>34.223992</td>\n",
       "      <td>1</td>\n",
       "    </tr>\n",
       "    <tr>\n",
       "      <th>4</th>\n",
       "      <td>k403</td>\n",
       "      <td>Ramicane</td>\n",
       "      <td>Male</td>\n",
       "      <td>21</td>\n",
       "      <td>16</td>\n",
       "      <td>20</td>\n",
       "      <td>32.997729</td>\n",
       "      <td>1</td>\n",
       "    </tr>\n",
       "    <tr>\n",
       "      <th>...</th>\n",
       "      <td>...</td>\n",
       "      <td>...</td>\n",
       "      <td>...</td>\n",
       "      <td>...</td>\n",
       "      <td>...</td>\n",
       "      <td>...</td>\n",
       "      <td>...</td>\n",
       "      <td>...</td>\n",
       "    </tr>\n",
       "    <tr>\n",
       "      <th>1888</th>\n",
       "      <td>z969</td>\n",
       "      <td>Naftisol</td>\n",
       "      <td>Male</td>\n",
       "      <td>9</td>\n",
       "      <td>30</td>\n",
       "      <td>25</td>\n",
       "      <td>63.145652</td>\n",
       "      <td>2</td>\n",
       "    </tr>\n",
       "    <tr>\n",
       "      <th>1889</th>\n",
       "      <td>z969</td>\n",
       "      <td>Naftisol</td>\n",
       "      <td>Male</td>\n",
       "      <td>9</td>\n",
       "      <td>30</td>\n",
       "      <td>30</td>\n",
       "      <td>65.841013</td>\n",
       "      <td>3</td>\n",
       "    </tr>\n",
       "    <tr>\n",
       "      <th>1890</th>\n",
       "      <td>z969</td>\n",
       "      <td>Naftisol</td>\n",
       "      <td>Male</td>\n",
       "      <td>9</td>\n",
       "      <td>30</td>\n",
       "      <td>35</td>\n",
       "      <td>69.176246</td>\n",
       "      <td>4</td>\n",
       "    </tr>\n",
       "    <tr>\n",
       "      <th>1891</th>\n",
       "      <td>z969</td>\n",
       "      <td>Naftisol</td>\n",
       "      <td>Male</td>\n",
       "      <td>9</td>\n",
       "      <td>30</td>\n",
       "      <td>40</td>\n",
       "      <td>70.314904</td>\n",
       "      <td>4</td>\n",
       "    </tr>\n",
       "    <tr>\n",
       "      <th>1892</th>\n",
       "      <td>z969</td>\n",
       "      <td>Naftisol</td>\n",
       "      <td>Male</td>\n",
       "      <td>9</td>\n",
       "      <td>30</td>\n",
       "      <td>45</td>\n",
       "      <td>73.867845</td>\n",
       "      <td>4</td>\n",
       "    </tr>\n",
       "  </tbody>\n",
       "</table>\n",
       "<p>1893 rows × 8 columns</p>\n",
       "</div>"
      ],
      "text/plain": [
       "     Mouse ID Drug Regimen   Sex  Age_months  Weight (g)  Timepoint  \\\n",
       "0        k403     Ramicane  Male          21          16          0   \n",
       "1        k403     Ramicane  Male          21          16          5   \n",
       "2        k403     Ramicane  Male          21          16         10   \n",
       "3        k403     Ramicane  Male          21          16         15   \n",
       "4        k403     Ramicane  Male          21          16         20   \n",
       "...       ...          ...   ...         ...         ...        ...   \n",
       "1888     z969     Naftisol  Male           9          30         25   \n",
       "1889     z969     Naftisol  Male           9          30         30   \n",
       "1890     z969     Naftisol  Male           9          30         35   \n",
       "1891     z969     Naftisol  Male           9          30         40   \n",
       "1892     z969     Naftisol  Male           9          30         45   \n",
       "\n",
       "      Tumor Volume (mm3)  Metastatic Sites  \n",
       "0              45.000000                 0  \n",
       "1              38.825898                 0  \n",
       "2              35.014271                 1  \n",
       "3              34.223992                 1  \n",
       "4              32.997729                 1  \n",
       "...                  ...               ...  \n",
       "1888           63.145652                 2  \n",
       "1889           65.841013                 3  \n",
       "1890           69.176246                 4  \n",
       "1891           70.314904                 4  \n",
       "1892           73.867845                 4  \n",
       "\n",
       "[1893 rows x 8 columns]"
      ]
     },
     "execution_count": 2,
     "metadata": {},
     "output_type": "execute_result"
    }
   ],
   "source": [
    "print(f\"{duplicate_data} records in the experiment.\")\n",
    "\n",
    "combined_data"
   ]
  },
  {
   "cell_type": "code",
   "execution_count": 3,
   "metadata": {},
   "outputs": [
    {
     "name": "stdout",
     "output_type": "stream",
     "text": [
      "Mice with more than one datapoint in a timepoint.\n",
      "\n",
      "    Mouse ID  Timepoint  Tumor Volume (mm3)\n",
      "908     g989          0           45.000000\n",
      "909     g989          0           45.000000\n",
      "910     g989          5           48.786801\n",
      "911     g989          5           47.570392\n",
      "912     g989         10           51.745156\n",
      "913     g989         10           49.880528\n",
      "914     g989         15           51.325852\n",
      "915     g989         15           53.442020\n",
      "916     g989         20           55.326122\n",
      "917     g989         20           54.657650\n"
     ]
    }
   ],
   "source": [
    "# Getting the duplicate mice by ID number that shows up for Mouse ID and Timepoint. \n",
    "duplicate_list = combined_data[combined_data.duplicated([\"Mouse ID\", \"Timepoint\"], keep = False)]\n",
    "print(f\"Mice with more than one datapoint in a timepoint.\\n\")\n",
    "print(duplicate_list[[\"Mouse ID\", \"Timepoint\", \"Tumor Volume (mm3)\"]])"
   ]
  },
  {
   "cell_type": "code",
   "execution_count": 4,
   "metadata": {},
   "outputs": [
    {
     "name": "stdout",
     "output_type": "stream",
     "text": [
      "There is a total of 1888 records in this new dataframe.\n"
     ]
    },
    {
     "data": {
      "text/html": [
       "<div>\n",
       "<style scoped>\n",
       "    .dataframe tbody tr th:only-of-type {\n",
       "        vertical-align: middle;\n",
       "    }\n",
       "\n",
       "    .dataframe tbody tr th {\n",
       "        vertical-align: top;\n",
       "    }\n",
       "\n",
       "    .dataframe thead th {\n",
       "        text-align: right;\n",
       "    }\n",
       "</style>\n",
       "<table border=\"1\" class=\"dataframe\">\n",
       "  <thead>\n",
       "    <tr style=\"text-align: right;\">\n",
       "      <th></th>\n",
       "      <th>Mouse ID</th>\n",
       "      <th>Drug Regimen</th>\n",
       "      <th>Sex</th>\n",
       "      <th>Age_months</th>\n",
       "      <th>Weight (g)</th>\n",
       "      <th>Timepoint</th>\n",
       "      <th>Tumor Volume (mm3)</th>\n",
       "      <th>Metastatic Sites</th>\n",
       "    </tr>\n",
       "  </thead>\n",
       "  <tbody>\n",
       "    <tr>\n",
       "      <th>0</th>\n",
       "      <td>k403</td>\n",
       "      <td>Ramicane</td>\n",
       "      <td>Male</td>\n",
       "      <td>21</td>\n",
       "      <td>16</td>\n",
       "      <td>0</td>\n",
       "      <td>45.000000</td>\n",
       "      <td>0</td>\n",
       "    </tr>\n",
       "    <tr>\n",
       "      <th>1</th>\n",
       "      <td>k403</td>\n",
       "      <td>Ramicane</td>\n",
       "      <td>Male</td>\n",
       "      <td>21</td>\n",
       "      <td>16</td>\n",
       "      <td>5</td>\n",
       "      <td>38.825898</td>\n",
       "      <td>0</td>\n",
       "    </tr>\n",
       "    <tr>\n",
       "      <th>2</th>\n",
       "      <td>k403</td>\n",
       "      <td>Ramicane</td>\n",
       "      <td>Male</td>\n",
       "      <td>21</td>\n",
       "      <td>16</td>\n",
       "      <td>10</td>\n",
       "      <td>35.014271</td>\n",
       "      <td>1</td>\n",
       "    </tr>\n",
       "    <tr>\n",
       "      <th>3</th>\n",
       "      <td>k403</td>\n",
       "      <td>Ramicane</td>\n",
       "      <td>Male</td>\n",
       "      <td>21</td>\n",
       "      <td>16</td>\n",
       "      <td>15</td>\n",
       "      <td>34.223992</td>\n",
       "      <td>1</td>\n",
       "    </tr>\n",
       "    <tr>\n",
       "      <th>4</th>\n",
       "      <td>k403</td>\n",
       "      <td>Ramicane</td>\n",
       "      <td>Male</td>\n",
       "      <td>21</td>\n",
       "      <td>16</td>\n",
       "      <td>20</td>\n",
       "      <td>32.997729</td>\n",
       "      <td>1</td>\n",
       "    </tr>\n",
       "    <tr>\n",
       "      <th>...</th>\n",
       "      <td>...</td>\n",
       "      <td>...</td>\n",
       "      <td>...</td>\n",
       "      <td>...</td>\n",
       "      <td>...</td>\n",
       "      <td>...</td>\n",
       "      <td>...</td>\n",
       "      <td>...</td>\n",
       "    </tr>\n",
       "    <tr>\n",
       "      <th>1888</th>\n",
       "      <td>z969</td>\n",
       "      <td>Naftisol</td>\n",
       "      <td>Male</td>\n",
       "      <td>9</td>\n",
       "      <td>30</td>\n",
       "      <td>25</td>\n",
       "      <td>63.145652</td>\n",
       "      <td>2</td>\n",
       "    </tr>\n",
       "    <tr>\n",
       "      <th>1889</th>\n",
       "      <td>z969</td>\n",
       "      <td>Naftisol</td>\n",
       "      <td>Male</td>\n",
       "      <td>9</td>\n",
       "      <td>30</td>\n",
       "      <td>30</td>\n",
       "      <td>65.841013</td>\n",
       "      <td>3</td>\n",
       "    </tr>\n",
       "    <tr>\n",
       "      <th>1890</th>\n",
       "      <td>z969</td>\n",
       "      <td>Naftisol</td>\n",
       "      <td>Male</td>\n",
       "      <td>9</td>\n",
       "      <td>30</td>\n",
       "      <td>35</td>\n",
       "      <td>69.176246</td>\n",
       "      <td>4</td>\n",
       "    </tr>\n",
       "    <tr>\n",
       "      <th>1891</th>\n",
       "      <td>z969</td>\n",
       "      <td>Naftisol</td>\n",
       "      <td>Male</td>\n",
       "      <td>9</td>\n",
       "      <td>30</td>\n",
       "      <td>40</td>\n",
       "      <td>70.314904</td>\n",
       "      <td>4</td>\n",
       "    </tr>\n",
       "    <tr>\n",
       "      <th>1892</th>\n",
       "      <td>z969</td>\n",
       "      <td>Naftisol</td>\n",
       "      <td>Male</td>\n",
       "      <td>9</td>\n",
       "      <td>30</td>\n",
       "      <td>45</td>\n",
       "      <td>73.867845</td>\n",
       "      <td>4</td>\n",
       "    </tr>\n",
       "  </tbody>\n",
       "</table>\n",
       "<p>1888 rows × 8 columns</p>\n",
       "</div>"
      ],
      "text/plain": [
       "     Mouse ID Drug Regimen   Sex  Age_months  Weight (g)  Timepoint  \\\n",
       "0        k403     Ramicane  Male          21          16          0   \n",
       "1        k403     Ramicane  Male          21          16          5   \n",
       "2        k403     Ramicane  Male          21          16         10   \n",
       "3        k403     Ramicane  Male          21          16         15   \n",
       "4        k403     Ramicane  Male          21          16         20   \n",
       "...       ...          ...   ...         ...         ...        ...   \n",
       "1888     z969     Naftisol  Male           9          30         25   \n",
       "1889     z969     Naftisol  Male           9          30         30   \n",
       "1890     z969     Naftisol  Male           9          30         35   \n",
       "1891     z969     Naftisol  Male           9          30         40   \n",
       "1892     z969     Naftisol  Male           9          30         45   \n",
       "\n",
       "      Tumor Volume (mm3)  Metastatic Sites  \n",
       "0              45.000000                 0  \n",
       "1              38.825898                 0  \n",
       "2              35.014271                 1  \n",
       "3              34.223992                 1  \n",
       "4              32.997729                 1  \n",
       "...                  ...               ...  \n",
       "1888           63.145652                 2  \n",
       "1889           65.841013                 3  \n",
       "1890           69.176246                 4  \n",
       "1891           70.314904                 4  \n",
       "1892           73.867845                 4  \n",
       "\n",
       "[1888 rows x 8 columns]"
      ]
     },
     "execution_count": 4,
     "metadata": {},
     "output_type": "execute_result"
    }
   ],
   "source": [
    "# Optional: Get all the data for the duplicate mouse ID. \n",
    "nodupe_data = combined_data.drop_duplicates(subset = (\"Mouse ID\", \"Timepoint\"), keep = \"last\")\n",
    "\n",
    "record_check = nodupe_data[\"Mouse ID\"].count()\n",
    "\n",
    "print(f\"There is a total of {record_check} records in this new dataframe.\")\n",
    "\n",
    "nodupe_data"
   ]
  },
  {
   "cell_type": "code",
   "execution_count": 5,
   "metadata": {},
   "outputs": [
    {
     "data": {
      "text/plain": [
       "249"
      ]
     },
     "execution_count": 5,
     "metadata": {},
     "output_type": "execute_result"
    }
   ],
   "source": [
    "# Checking the number of mice in the clean DataFrame.\n",
    "nodupe_data['Mouse ID'].nunique()"
   ]
  },
  {
   "cell_type": "markdown",
   "metadata": {},
   "source": [
    "## Summary Statistics"
   ]
  },
  {
   "cell_type": "code",
   "execution_count": 6,
   "metadata": {},
   "outputs": [
    {
     "name": "stdout",
     "output_type": "stream",
     "text": [
      "              Average  Median  Variance  Standard Deviation  Standard Error\n",
      "Drug Regimen                                                               \n",
      "Capomulin       40.68   41.56     24.95                4.99            0.33\n",
      "Ceftamin        52.59   51.78     39.29                6.27            0.47\n",
      "Infubinol       52.88   51.82     43.13                6.57            0.49\n",
      "Ketapril        55.24   53.70     68.55                8.28            0.60\n",
      "Naftisol        54.33   52.51     66.17                8.13            0.60\n",
      "Placebo         54.03   52.29     61.17                7.82            0.58\n",
      "Propriva        52.38   50.78     43.22                6.57            0.53\n",
      "Ramicane        40.22   40.67     23.49                4.85            0.32\n",
      "Stelasyn        54.23   52.43     59.45                7.71            0.57\n",
      "Zoniferol       53.24   51.82     48.53                6.97            0.52\n"
     ]
    }
   ],
   "source": [
    "# Generate a summary statistics table of mean, median, variance, standard deviation, and SEM of the tumor volume for each regimen\n",
    "\n",
    "# Use groupby and summary statistical methods to calculate the following properties of each drug regimen: \n",
    "# mean, median, variance, standard deviation, and SEM of the tumor volume. \n",
    "# Assemble the resulting series into a single summary DataFrame.\n",
    "regimen_group = nodupe_data.groupby(\"Drug Regimen\")\n",
    "avg_tumor = round(regimen_group[\"Tumor Volume (mm3)\"].mean(),2)\n",
    "med_tumor = round(regimen_group[\"Tumor Volume (mm3)\"].median(),2)\n",
    "var_tumor = round(regimen_group[\"Tumor Volume (mm3)\"].var(),2)\n",
    "std_tumor = round(regimen_group[\"Tumor Volume (mm3)\"].std(),2)\n",
    "sem_tumor = round(regimen_group[\"Tumor Volume (mm3)\"].sem(),2)\n",
    "\n",
    "tumor_summary_df = pd.DataFrame({\"Average\" : avg_tumor, \"Median\" : med_tumor,\n",
    "                                \"Variance\" : var_tumor, \"Standard Deviation\" : std_tumor,\n",
    "                                \"Standard Error\" : sem_tumor})\n",
    "print(tumor_summary_df)"
   ]
  },
  {
   "cell_type": "code",
   "execution_count": 7,
   "metadata": {},
   "outputs": [],
   "source": [
    "# Generate a summary statistics table of mean, median, variance, standard deviation, \n",
    "# and SEM of the tumor volume for each regimen\n",
    "\n",
    "# Using the aggregation method, produce the same summary statistics in a single line.\n"
   ]
  },
  {
   "cell_type": "markdown",
   "metadata": {},
   "source": [
    "## Bar and Pie Charts"
   ]
  },
  {
   "cell_type": "code",
   "execution_count": 8,
   "metadata": {},
   "outputs": [
    {
     "data": {
      "image/png": "[encoded data removed]",
      "text/plain": [
       "<Figure size 576x360 with 1 Axes>"
      ]
     },
     "metadata": {
      "needs_background": "light"
     },
     "output_type": "display_data"
    }
   ],
   "source": [
    "# Generate a bar plot showing the total number of timepoints for all mice tested for each drug regimen using Pandas.\n",
    "\n",
    "combined_data_regimen_group = nodupe_data.groupby(\"Drug Regimen\")\n",
    "\n",
    "bar_graph_info = combined_data_regimen_group[\"Timepoint\"].count().sort_values(ascending = False)\n",
    "bar_graph = bar_graph_info.plot(kind = \"bar\", color = \"blue\", figsize = (8,5))\n",
    "bar_graph.set_title(\"Datapoints by Drug\")\n",
    "bar_graph.set_xlabel(\"Drug\")\n",
    "bar_graph.set_ylabel(\"Number of Data Points\")\n",
    "plt.show()"
   ]
  },
  {
   "cell_type": "code",
   "execution_count": 9,
   "metadata": {},
   "outputs": [
    {
     "data": {
      "image/png": "[encoded data removed]",
      "text/plain": [
       "<Figure size 576x360 with 1 Axes>"
      ]
     },
     "metadata": {
      "needs_background": "light"
     },
     "output_type": "display_data"
    }
   ],
   "source": [
    "# Generate a bar plot showing the total number of timepoints for all mice tested for each drug regimen using pyplot.\n",
    "\n",
    "x_axis = np.arange(len(bar_graph_info))\n",
    "tick_locations = [value for value in x_axis]\n",
    "\n",
    "plt.figure(figsize = (8,5))\n",
    "plt.bar(x_axis, bar_graph_info, color=\"blue\", width = .5)\n",
    "plt.xticks(tick_locations, bar_graph_info.index, rotation=\"vertical\")\n",
    "plt.title(\"Datapoints by Drug\")\n",
    "plt.xlabel(\"Drug\")\n",
    "plt.ylabel(\"Number of Data Points\")\n",
    "plt.show()"
   ]
  },
  {
   "cell_type": "code",
   "execution_count": 10,
   "metadata": {},
   "outputs": [
    {
     "data": {
      "image/png": "[encoded data removed]",
      "text/plain": [
       "<Figure size 360x360 with 1 Axes>"
      ]
     },
     "metadata": {},
     "output_type": "display_data"
    }
   ],
   "source": [
    "# Generate a pie plot showing the distribution of female versus male mice using Pandas\n",
    "combined_data_gender_group = nodupe_data.groupby(\"Sex\")\n",
    "\n",
    "pie_chart_info = combined_data_gender_group[\"Mouse ID\"].nunique()\n",
    "pie_chart = pie_chart_info.plot(kind = \"pie\", y = pie_chart_info, colors = {\"red\", \"blue\"}, autopct=\"%1.1f%%\", figsize = (5,5))\n",
    "pie_chart.set_title(\"Test Subjects by Gender\")\n",
    "pie_chart.set_ylabel(\"Gender\")\n",
    "plt.show()\n"
   ]
  },
  {
   "cell_type": "code",
   "execution_count": 11,
   "metadata": {},
   "outputs": [
    {
     "data": {
      "image/png": "[encoded data removed]",
      "text/plain": [
       "<Figure size 360x360 with 1 Axes>"
      ]
     },
     "metadata": {},
     "output_type": "display_data"
    }
   ],
   "source": [
    "# Generate a pie plot showing the distribution of female versus male mice using pyplot\n",
    "pie_labels = pie_chart_info.index\n",
    "colors = [\"red\", \"blue\"]\n",
    "plt.figure(figsize = (5,5))\n",
    "plt.pie(pie_chart_info, labels = pie_labels, colors=colors, autopct=\"%1.1f%%\")\n",
    "plt.title(\"Test Subjects by Gender\")\n",
    "plt.ylabel(\"Gender\")\n",
    "plt.show()\n"
   ]
  },
  {
   "cell_type": "markdown",
   "metadata": {},
   "source": [
    "## Quartiles, Outliers and Boxplots"
   ]
  },
  {
   "cell_type": "code",
   "execution_count": 12,
   "metadata": {},
   "outputs": [],
   "source": [
    "# Calculate the final tumor volume of each mouse across four of the treatment regimens:  \n",
    "# Capomulin, Ramicane, Infubinol, and Ceftamin\n",
    "Final_Tumor_Size = nodupe_data.drop_duplicates(subset = (\"Mouse ID\"), keep = \"last\")\n",
    "Final_Tumor_by_drug = Final_Tumor_Size[[\"Mouse ID\", \"Drug Regimen\", \"Tumor Volume (mm3)\"]]\n",
    "Final_Tumor_Size_Capomulin = Final_Tumor_by_drug.loc[Final_Tumor_by_drug[\"Drug Regimen\"] == \"Capomulin\"]\n",
    "Final_Tumor_Size_Ramicane = Final_Tumor_by_drug.loc[Final_Tumor_by_drug[\"Drug Regimen\"] == \"Ramicane\"]\n",
    "Final_Tumor_Size_Infubinol = Final_Tumor_by_drug.loc[Final_Tumor_by_drug[\"Drug Regimen\"] == \"Infubinol\"]\n",
    "Final_Tumor_Size_Ceftamin = Final_Tumor_by_drug.loc[Final_Tumor_by_drug[\"Drug Regimen\"] == \"Ceftamin\"]\n",
    "# Start by getting the last (greatest) timepoint for each mouse\n",
    "\n",
    "\n",
    "# Merge this group df with the original DataFrame to get the tumor volume at the last timepoint\n",
    "box_plot_df = pd.DataFrame({\"Capomulin\" : Final_Tumor_Size_Capomulin[\"Tumor Volume (mm3)\"],\n",
    "                            \"Ramicane\" : Final_Tumor_Size_Ramicane[\"Tumor Volume (mm3)\"],\n",
    "                           \"Infubinol\" : Final_Tumor_Size_Infubinol[\"Tumor Volume (mm3)\"],\n",
    "                        \"Ceftamin\" : Final_Tumor_Size_Ceftamin[\"Tumor Volume (mm3)\"]})"
   ]
  },
  {
   "cell_type": "code",
   "execution_count": 13,
   "metadata": {},
   "outputs": [
    {
     "name": "stdout",
     "output_type": "stream",
     "text": [
      "Average Final Tumor Size\n",
      "\n",
      "Capomulin    36.67\n",
      "Ramicane     36.19\n",
      "Infubinol    58.18\n",
      "Ceftamin     57.75\n",
      "dtype: float64\n",
      "\n",
      "\n",
      "Tumor Size Quartiles\n",
      "\n",
      "      Capomulin  Ramicane  Infubinol  Ceftamin\n",
      "0.25      32.38     31.56      54.05     48.72\n",
      "0.50      38.13     36.56      60.17     59.85\n",
      "0.75      40.16     40.66      65.53     64.30\n",
      "\n",
      "\n",
      "Anything outside of these ranges is considered an outlier\n",
      "\n",
      "           Lower Bound  Upper Bound\n",
      "Capomulin        20.71        51.83\n",
      "Ramicane         17.91        54.31\n",
      "Infubinol        36.83        82.75\n",
      "Ceftamin         25.35        87.67\n",
      "\n",
      "\n",
      "Below is a list of all outliers\n",
      "\n",
      "    Mouse ID Drug Regimen  Tumor Volume (mm3)\n",
      "669     c326    Infubinol           36.321346\n"
     ]
    }
   ],
   "source": [
    "# Put treatments into a list for for loop (and later for plot labels)\n",
    "# Create empty list to fill with tumor vol data (for plotting)\n",
    "# Calculate the IQR and quantitatively determine if there are any potential outliers. \n",
    "  \n",
    "    # Locate the rows which contain mice on each drug and get the tumor volumes   \n",
    "    \n",
    "    # add subset     \n",
    "    \n",
    "    # Determine outliers using upper and lower bounds\n",
    "avg_tumor_size_final = round(box_plot_df.mean(),2)\n",
    "quartiles = round(box_plot_df.quantile([.25,.5,.75]),2)\n",
    "lower_q = quartiles.loc[.25]\n",
    "upper_q = quartiles.loc[.75]\n",
    "iqr = upper_q - lower_q\n",
    "lower_bound = lower_q - (1.5*iqr)\n",
    "upper_bound = upper_q + (1.5*iqr)\n",
    "outlier_df = pd.DataFrame({\"Lower Bound\" : lower_bound, \"Upper Bound\" : upper_bound})\n",
    "\n",
    "print(f\"Average Final Tumor Size\\n\\n{avg_tumor_size_final}\\n\\n\")\n",
    "\n",
    "print(f\"Tumor Size Quartiles\\n\\n{quartiles}\\n\\n\")\n",
    "\n",
    "print(f\"Anything outside of these ranges is considered an outlier\\n\\n{outlier_df}\\n\\n\")\n",
    "\n",
    "Capomulin_outlier = Final_Tumor_Size_Capomulin.loc[(Final_Tumor_Size_Capomulin[\"Tumor Volume (mm3)\"] <= outlier_df.loc[\"Capomulin\", \"Lower Bound\"]) |\n",
    "                                                   (Final_Tumor_Size_Capomulin[\"Tumor Volume (mm3)\"] >= outlier_df.loc[\"Capomulin\", \"Upper Bound\"])]\n",
    "Ramicane_outlier = Final_Tumor_Size_Ramicane.loc[(Final_Tumor_Size_Ramicane[\"Tumor Volume (mm3)\"] <= outlier_df.loc[\"Ramicane\", \"Lower Bound\"]) |\n",
    "                                                   (Final_Tumor_Size_Ramicane[\"Tumor Volume (mm3)\"] >= outlier_df.loc[\"Ramicane\", \"Upper Bound\"])]\n",
    "Infubinol_outlier = Final_Tumor_Size_Infubinol.loc[(Final_Tumor_Size_Infubinol[\"Tumor Volume (mm3)\"] <= outlier_df.loc[\"Infubinol\", \"Lower Bound\"]) |\n",
    "                                                   (Final_Tumor_Size_Infubinol[\"Tumor Volume (mm3)\"] >= outlier_df.loc[\"Infubinol\", \"Upper Bound\"])]\n",
    "Ceftamin_outlier = Final_Tumor_Size_Ceftamin.loc[(Final_Tumor_Size_Ceftamin[\"Tumor Volume (mm3)\"] <= outlier_df.loc[\"Ceftamin\", \"Lower Bound\"]) |\n",
    "                                                   (Final_Tumor_Size_Ceftamin[\"Tumor Volume (mm3)\"] >= outlier_df.loc[\"Ceftamin\", \"Upper Bound\"])]\n",
    "\n",
    "outlier_list = pd.concat([Capomulin_outlier, Ramicane_outlier, Infubinol_outlier, Ceftamin_outlier])\n",
    "\n",
    "print(f\"Below is a list of all outliers\\n\\n{outlier_list}\")"
   ]
  },
  {
   "cell_type": "code",
   "execution_count": 14,
   "metadata": {},
   "outputs": [
    {
     "data": {
      "image/png": "[encoded data removed]",
      "text/plain": [
       "<Figure size 432x288 with 1 Axes>"
      ]
     },
     "metadata": {
      "needs_background": "light"
     },
     "output_type": "display_data"
    }
   ],
   "source": [
    "# Generate a box plot that shows the distrubution of the tumor volume for each treatment group.\n",
    "red_circle = dict(markerfacecolor = \"blue\", marker = \"x\")\n",
    "fig, myboxplot = plt.subplots()\n",
    "myboxplot = box_plot_df.boxplot(column = [\"Capomulin\", \"Ramicane\", \"Infubinol\", \"Ceftamin\"], grid = False,\n",
    "                                flierprops = red_circle,)\n",
    "plt.title(\"Final Tumor Volume by Drug\")\n",
    "plt.xlabel(\"Drug\")\n",
    "plt.ylabel(\"Final Tumor Volume (mm3)\")\n",
    "plt.show()"
   ]
  },
  {
   "cell_type": "markdown",
   "metadata": {},
   "source": [
    "## Line and Scatter Plots"
   ]
  },
  {
   "cell_type": "code",
   "execution_count": 15,
   "metadata": {},
   "outputs": [
    {
     "data": {
      "image/png": "[encoded data removed]",
      "text/plain": [
       "<Figure size 432x288 with 1 Axes>"
      ]
     },
     "metadata": {
      "needs_background": "light"
     },
     "output_type": "display_data"
    }
   ],
   "source": [
    "# Generate a line plot of tumor volume vs. time point for a mouse treated with Capomulin\n",
    "IndMouse = nodupe_data.loc[nodupe_data[\"Mouse ID\"] == \"r944\"]\n",
    "x_timepoint = IndMouse[\"Timepoint\"]\n",
    "y_tumor_volume = IndMouse[\"Tumor Volume (mm3)\"]\n",
    "plt.plot(x_timepoint, y_tumor_volume, color = \"blue\", marker = \"x\", markerfacecolor = \"red\", linewidth = 2)\n",
    "plt.title(f\"Capomulin Treatment for Mouse r944\")\n",
    "plt.xlabel(\"Time Point in Days\")\n",
    "plt.ylabel(\"Tumor Volume (mm3)\")\n",
    "plt.show()\n"
   ]
  },
  {
   "cell_type": "code",
   "execution_count": 16,
   "metadata": {},
   "outputs": [
    {
     "data": {
      "image/png": "[encoded data removed]",
      "text/plain": [
       "<Figure size 432x288 with 1 Axes>"
      ]
     },
     "metadata": {
      "needs_background": "light"
     },
     "output_type": "display_data"
    }
   ],
   "source": [
    "# Generate a scatter plot of average tumor volume vs. mouse weight for the Capomulin regimen\n",
    "Capomulin_Tests = nodupe_data.loc[nodupe_data[\"Drug Regimen\"] == \"Capomulin\"]\n",
    "Capomulin_subjects_avgs = Capomulin_Tests.groupby(\"Mouse ID\").mean()\n",
    "avg_weight = Capomulin_subjects_avgs[\"Weight (g)\"]\n",
    "avg_tumor_volume = Capomulin_subjects_avgs[\"Tumor Volume (mm3)\"]\n",
    "\n",
    "plt.scatter(avg_weight, avg_tumor_volume, facecolor = \"skyblue\")\n",
    "plt.title(\"Average Mouse Weight vs. Average Tumor Volume\")\n",
    "plt.xlabel(\"Weight(g)\")\n",
    "plt.ylabel(\"Average Tumor Volume (mm3)\")\n",
    "\n",
    "plt.show()\n"
   ]
  },
  {
   "cell_type": "markdown",
   "metadata": {},
   "source": [
    "## Correlation and Regression"
   ]
  },
  {
   "cell_type": "code",
   "execution_count": 17,
   "metadata": {},
   "outputs": [
    {
     "data": {
      "image/png": "[encoded data removed]",
      "text/plain": [
       "<Figure size 432x288 with 1 Axes>"
      ]
     },
     "metadata": {
      "needs_background": "light"
     },
     "output_type": "display_data"
    }
   ],
   "source": [
    "# Calculate the correlation coefficient and linear regression model \n",
    "# for mouse weight and average tumor volume for the Capomulin regimen\n",
    "slope, y_int, r_value, p_value, std_err = st.linregress(avg_weight, avg_tumor_volume)\n",
    "\n",
    "fit = avg_weight * slope  + y_int\n",
    "equation = \"y= \" + str(round(slope,2)) + \"x + \" + str(round(y_int,2))\n",
    "r_square = \"R-Squared Value is \" + str(round(r_value,2))\n",
    "plt.scatter(avg_weight, avg_tumor_volume, facecolor = \"skyblue\")\n",
    "plt.plot(avg_weight, fit, color = \"red\")\n",
    "plt.annotate(equation, (20, 40), color = \"red\", fontsize = 12)\n",
    "plt.annotate(r_square, (19, 38.5), color = \"red\", fontsize = 12)\n",
    "plt.title(\"Average Mouse Weight vs. Average Tumor Volume\")\n",
    "plt.xlabel(\"Weight(g)\")\n",
    "plt.ylabel(\"Average Tumor Volume (mm3)\")\n",
    "plt.show()\n"
   ]
  },
  {
   "cell_type": "code",
   "execution_count": null,
   "metadata": {},
   "outputs": [],
   "source": []
  }
 ],
 "metadata": {
  "anaconda-cloud": {},
  "kernelspec": {
   "display_name": "Python 3 (ipykernel)",
   "language": "python",
   "name": "python3"
  },
  "language_info": {
   "codemirror_mode": {
    "name": "ipython",
    "version": 3
   },
   "file_extension": ".py",
   "mimetype": "text/x-python",
   "name": "python",
   "nbconvert_exporter": "python",
   "pygments_lexer": "ipython3",
   "version": "3.9.12"
  }
 },
 "nbformat": 4,
 "nbformat_minor": 4
}
